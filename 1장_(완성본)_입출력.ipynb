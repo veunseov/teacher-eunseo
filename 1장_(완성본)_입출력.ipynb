{
  "nbformat": 4,
  "nbformat_minor": 0,
  "metadata": {
    "colab": {
      "name": "1장-(완성본)-입출력",
      "provenance": [],
      "include_colab_link": true
    },
    "kernelspec": {
      "name": "python3",
      "display_name": "Python 3"
    }
  },
  "cells": [
    {
      "cell_type": "markdown",
      "metadata": {
        "id": "view-in-github",
        "colab_type": "text"
      },
      "source": [
        "<a href=\"https://colab.research.google.com/github/veunseov/teacher-eunseo/blob/main/1%EC%9E%A5_(%EC%99%84%EC%84%B1%EB%B3%B8)_%EC%9E%85%EC%B6%9C%EB%A0%A5.ipynb\" target=\"_parent\"><img src=\"https://colab.research.google.com/assets/colab-badge.svg\" alt=\"Open In Colab\"/></a>"
      ]
    },
    {
      "cell_type": "markdown",
      "metadata": {
        "id": "6VICvDDuPykk"
      },
      "source": [
        "\n",
        "# 1. 파이썬 명령어 형식\n",
        "<img src='https://github.com/teacher-jiejie/allinone_AI/blob/images/0_%EB%AA%85%EB%A0%B9%EC%96%B4.png?raw=true' width=400>"
      ]
    },
    {
      "cell_type": "markdown",
      "metadata": {
        "id": "LJAHyqRXU_tN"
      },
      "source": [
        "# 2. 출력명령어 \n",
        "### 출력 명령어 형식\n",
        "\n",
        "\n",
        "> print( 출력할 내용 )\n",
        "\n",
        "\n"
      ]
    },
    {
      "cell_type": "code",
      "metadata": {
        "id": "fHog4iYYL-q4",
        "colab": {
          "base_uri": "https://localhost:8080/"
        },
        "outputId": "d4ca0c90-92bc-4ba8-c181-39947949b07c"
      },
      "source": [
        "# 숫자 출력\n",
        "print(123)"
      ],
      "execution_count": null,
      "outputs": [
        {
          "output_type": "stream",
          "name": "stdout",
          "text": [
            "123\n"
          ]
        }
      ]
    },
    {
      "cell_type": "markdown",
      "metadata": {
        "id": "KqFYkVtu_foZ"
      },
      "source": [
        "### 문자는 따옴표로 감싸주어야 함\n",
        "> print('문자')"
      ]
    },
    {
      "cell_type": "code",
      "metadata": {
        "id": "-Mn2gKC1y2XL",
        "colab": {
          "base_uri": "https://localhost:8080/"
        },
        "outputId": "4afb7869-ac54-42bf-d252-f01d278e98c2"
      },
      "source": [
        "# 문자 출력\n",
        "print('안녕')"
      ],
      "execution_count": null,
      "outputs": [
        {
          "output_type": "stream",
          "name": "stdout",
          "text": [
            "안녕\n"
          ]
        }
      ]
    },
    {
      "cell_type": "code",
      "metadata": {
        "id": "HndD3I4ybonQ",
        "colab": {
          "base_uri": "https://localhost:8080/"
        },
        "outputId": "edbf3913-7343-452a-b624-d462420f2c28"
      },
      "source": [
        "# 따옴표를 쓰면 문자로 인식함\n",
        "print('123')"
      ],
      "execution_count": null,
      "outputs": [
        {
          "output_type": "stream",
          "name": "stdout",
          "text": [
            "123\n"
          ]
        }
      ]
    },
    {
      "cell_type": "markdown",
      "source": [
        "### 사칙연산 출력하기"
      ],
      "metadata": {
        "id": "-iIsu8JvPNe3"
      }
    },
    {
      "cell_type": "code",
      "metadata": {
        "id": "RqdNnVh2bopV",
        "colab": {
          "base_uri": "https://localhost:8080/"
        },
        "outputId": "ed4606c4-e719-4f50-f0c7-afe394c65b1c"
      },
      "source": [
        "# 덧셈\n",
        "print(20+6)\n",
        "print(\"20+6\")"
      ],
      "execution_count": null,
      "outputs": [
        {
          "output_type": "stream",
          "name": "stdout",
          "text": [
            "26\n",
            "20+6\n"
          ]
        }
      ]
    },
    {
      "cell_type": "code",
      "metadata": {
        "colab": {
          "base_uri": "https://localhost:8080/"
        },
        "id": "osxJgfZU_b3y",
        "outputId": "3c683d6d-9942-423a-9f4f-cb7a49a881a2"
      },
      "source": [
        "# 뺄셈\n",
        "print(20-6)\n",
        "\n",
        "# 곱셈\n",
        "print(20*6)\n",
        "\n",
        "# 나눗셈\n",
        "print(20/6)\n",
        "print(round(20/6), 2)\n",
        "\n",
        "# 몫\n",
        "print(20//6)\n",
        "\n",
        "# 나머지\n",
        "print(20%6)\n",
        "\n",
        "# 제곱\n",
        "print(5**3)"
      ],
      "execution_count": null,
      "outputs": [
        {
          "output_type": "stream",
          "name": "stdout",
          "text": [
            "14\n",
            "120\n",
            "3.3333333333333335\n",
            "3 2\n",
            "3\n",
            "2\n",
            "125\n"
          ]
        }
      ]
    },
    {
      "cell_type": "markdown",
      "metadata": {
        "id": "OEQFUbNCA9fm"
      },
      "source": [
        "### 연결하여 출력하기 \n",
        "> print(  ,  )\n",
        "<br/>\n",
        "> print(  +  )"
      ]
    },
    {
      "cell_type": "code",
      "metadata": {
        "colab": {
          "base_uri": "https://localhost:8080/"
        },
        "id": "O0URZFHFAFfE",
        "outputId": "423f80d4-157e-413c-852c-22513c68537d"
      },
      "source": [
        "# 콤마, 로 연결하여 출력하기\n",
        "print('파이썬', '프로그래밍')"
      ],
      "execution_count": null,
      "outputs": [
        {
          "output_type": "stream",
          "name": "stdout",
          "text": [
            "파이썬 프로그래밍\n"
          ]
        }
      ]
    },
    {
      "cell_type": "code",
      "metadata": {
        "colab": {
          "base_uri": "https://localhost:8080/"
        },
        "id": "QEjssp5gAU2N",
        "outputId": "933b5a5c-62ad-459c-ccda-b3a2aeb1a9c0"
      },
      "source": [
        "# 더하기 +로 연결하여 출력하기\n",
        "print('파이썬'+'프로그래밍')"
      ],
      "execution_count": null,
      "outputs": [
        {
          "output_type": "stream",
          "name": "stdout",
          "text": [
            "파이썬프로그래밍\n"
          ]
        }
      ]
    },
    {
      "cell_type": "code",
      "metadata": {
        "colab": {
          "base_uri": "https://localhost:8080/"
        },
        "id": "BXvFmqhtAzy1",
        "outputId": "d0942df5-f123-4f0e-9c36-65498aed347f"
      },
      "source": [
        "print('hi'*3)"
      ],
      "execution_count": null,
      "outputs": [
        {
          "output_type": "stream",
          "name": "stdout",
          "text": [
            "hihihi\n"
          ]
        }
      ]
    },
    {
      "cell_type": "code",
      "metadata": {
        "colab": {
          "base_uri": "https://localhost:8080/"
        },
        "id": "Pme3T740B8JM",
        "outputId": "39f7a91a-6450-4794-ef7d-396e0d7d46f2"
      },
      "source": [
        "print(10+20)"
      ],
      "execution_count": null,
      "outputs": [
        {
          "output_type": "stream",
          "name": "stdout",
          "text": [
            "30\n"
          ]
        }
      ]
    },
    {
      "cell_type": "code",
      "source": [
        "print(10, 20)"
      ],
      "metadata": {
        "colab": {
          "base_uri": "https://localhost:8080/"
        },
        "id": "xwWZMEjDQOdp",
        "outputId": "1b8c30f4-81cb-421d-fb29-72e86676534d"
      },
      "execution_count": null,
      "outputs": [
        {
          "output_type": "stream",
          "name": "stdout",
          "text": [
            "10 20\n"
          ]
        }
      ]
    },
    {
      "cell_type": "code",
      "source": [
        "print('2+5=', 2+5, '입니다')"
      ],
      "metadata": {
        "colab": {
          "base_uri": "https://localhost:8080/"
        },
        "id": "LcSDUXQLQRhP",
        "outputId": "099ea276-f053-4e05-8b9e-ca3e2d16fd54"
      },
      "execution_count": null,
      "outputs": [
        {
          "output_type": "stream",
          "name": "stdout",
          "text": [
            "2+5= 7 입니다\n"
          ]
        }
      ]
    },
    {
      "cell_type": "markdown",
      "metadata": {
        "id": "zNlNwOErClxr"
      },
      "source": [
        "# 3. 입력명령어\n",
        "### 입력명령어 형식\n",
        "> input('입력안내문')"
      ]
    },
    {
      "cell_type": "code",
      "metadata": {
        "id": "P35K2YD_B_fJ",
        "colab": {
          "base_uri": "https://localhost:8080/",
          "height": 53
        },
        "outputId": "df7d7797-117a-4ec1-bf2b-8e0dc0b28386"
      },
      "source": [
        "input()"
      ],
      "execution_count": null,
      "outputs": [
        {
          "output_type": "stream",
          "text": [
            "123123\n"
          ],
          "name": "stdout"
        },
        {
          "output_type": "execute_result",
          "data": {
            "application/vnd.google.colaboratory.intrinsic+json": {
              "type": "string"
            },
            "text/plain": [
              "'123123'"
            ]
          },
          "metadata": {
            "tags": []
          },
          "execution_count": 26
        }
      ]
    },
    {
      "cell_type": "code",
      "metadata": {
        "colab": {
          "base_uri": "https://localhost:8080/",
          "height": 54
        },
        "id": "g-WfHArdGA8b",
        "outputId": "7003085f-5ebb-4f28-b67e-51fe31b20f83"
      },
      "source": [
        "input('이름을 입력하세요')"
      ],
      "execution_count": null,
      "outputs": [
        {
          "name": "stdout",
          "output_type": "stream",
          "text": [
            "이름을 입력하세요설은서\n"
          ]
        },
        {
          "output_type": "execute_result",
          "data": {
            "application/vnd.google.colaboratory.intrinsic+json": {
              "type": "string"
            },
            "text/plain": [
              "'설은서'"
            ]
          },
          "metadata": {},
          "execution_count": 12
        }
      ]
    },
    {
      "cell_type": "code",
      "metadata": {
        "colab": {
          "base_uri": "https://localhost:8080/",
          "height": 72
        },
        "id": "dlc34WbEGQLy",
        "outputId": "c79b94a4-1eba-4c5b-ea59-9f7e1c5c1986"
      },
      "source": [
        "input('아이디 : ')\n",
        "input('비밀번호 : ')"
      ],
      "execution_count": null,
      "outputs": [
        {
          "name": "stdout",
          "output_type": "stream",
          "text": [
            "아이디 : gwangnam\n",
            "비밀번호 : 1234\n"
          ]
        },
        {
          "output_type": "execute_result",
          "data": {
            "application/vnd.google.colaboratory.intrinsic+json": {
              "type": "string"
            },
            "text/plain": [
              "'1234'"
            ]
          },
          "metadata": {},
          "execution_count": 13
        }
      ]
    },
    {
      "cell_type": "code",
      "source": [
        "print(input('이름을 입력하세요')+'님 안녕하세요')"
      ],
      "metadata": {
        "colab": {
          "base_uri": "https://localhost:8080/"
        },
        "id": "hHHeRBdgRWkg",
        "outputId": "7e2a6362-6be8-45f5-f6fd-3e56e27d00a4"
      },
      "execution_count": null,
      "outputs": [
        {
          "output_type": "stream",
          "name": "stdout",
          "text": [
            "이름을 입력하세요설은서\n",
            "설은서님 안녕하세요\n"
          ]
        }
      ]
    },
    {
      "cell_type": "code",
      "source": [
        "name = input('이름을 입력하세요')\n",
        "print(name + '님 안녕하세요')"
      ],
      "metadata": {
        "colab": {
          "base_uri": "https://localhost:8080/"
        },
        "id": "QY3r13sdRemL",
        "outputId": "df828dd4-7516-4362-91bf-46c250cc9d92"
      },
      "execution_count": null,
      "outputs": [
        {
          "output_type": "stream",
          "name": "stdout",
          "text": [
            "이름을 입력하세요설은서\n",
            "설은서님 안녕하세요\n"
          ]
        }
      ]
    },
    {
      "cell_type": "markdown",
      "metadata": {
        "id": "5TblMxseGyGG"
      },
      "source": [
        "### 순차구조 \n",
        "\n",
        "<img src='https://github.com/teacher-jiejie/allinone_AI/blob/images/66_%E1%84%89%E1%85%AE%E1%86%AB%E1%84%8E%E1%85%A1%E1%84%80%E1%85%AE%E1%84%8C%E1%85%A9.png?raw=true' width=600>"
      ]
    },
    {
      "cell_type": "code",
      "metadata": {
        "colab": {
          "base_uri": "https://localhost:8080/"
        },
        "id": "CfX6PoPdGX4T",
        "outputId": "791f363b-53cb-4fb1-aca1-0704df1c8a2b"
      },
      "source": [
        "print('---000 웹사이트 회원가입 ---')\n",
        "input('아이디 : ')\n",
        "print('000 웹사이트 가입을 환영합니다!')"
      ],
      "execution_count": null,
      "outputs": [
        {
          "output_type": "stream",
          "name": "stdout",
          "text": [
            "---000 웹사이트 회원가입 ---\n",
            "아이디 : gwangnam\n",
            "000 웹사이트 가입을 환영합니다!\n"
          ]
        }
      ]
    },
    {
      "cell_type": "code",
      "metadata": {
        "id": "3bE5MP4lIutc"
      },
      "source": [
        ""
      ],
      "execution_count": null,
      "outputs": []
    },
    {
      "cell_type": "markdown",
      "source": [
        "# <실습>"
      ],
      "metadata": {
        "id": "5VmJ6Z8uRzv1"
      }
    },
    {
      "cell_type": "markdown",
      "source": [
        "1-1. 사용자의 이름을 입력받아서 다음과 같이 출력하라\n",
        "- 실행결과 : Hello [이름]\n"
      ],
      "metadata": {
        "id": "hn7fms4qSzQG"
      }
    },
    {
      "cell_type": "code",
      "source": [
        "print(\"Hello\", input(\"이름을 입력하세요\"))"
      ],
      "metadata": {
        "colab": {
          "base_uri": "https://localhost:8080/"
        },
        "id": "yj9pStuqSXcI",
        "outputId": "0e60bf3d-9be0-434d-abed-e3030e4c4bc7"
      },
      "execution_count": null,
      "outputs": [
        {
          "output_type": "stream",
          "name": "stdout",
          "text": [
            "이름을 입력하세요설은서\n",
            "Hello 설은서\n"
          ]
        }
      ]
    },
    {
      "cell_type": "markdown",
      "source": [
        "\n",
        "\n",
        "---\n",
        "\n"
      ],
      "metadata": {
        "id": "SBMrVm4HUpJz"
      }
    },
    {
      "cell_type": "markdown",
      "source": [
        "1-2. 다음 조건에 따라 출력하시오.\n",
        " - 조건 : 문자와 연산자를 적절히 조합\n",
        " - 실행결과 : \n",
        "       무궁화 꽃이 피었습니다! 무궁화 꽃이 피었습니다! 무궁화 꽃이 피었습니다!"
      ],
      "metadata": {
        "id": "edZpXn7mR5IH"
      }
    },
    {
      "cell_type": "code",
      "source": [
        "print(\"무궁화 꽃이 피었습니다!\"*3)"
      ],
      "metadata": {
        "colab": {
          "base_uri": "https://localhost:8080/"
        },
        "id": "gjEiSA7QS7wv",
        "outputId": "2624dc73-6b95-48f9-b0f2-8c11bc1b7018"
      },
      "execution_count": null,
      "outputs": [
        {
          "output_type": "stream",
          "name": "stdout",
          "text": [
            "무궁화 꽃이 피었습니다!무궁화 꽃이 피었습니다!무궁화 꽃이 피었습니다!\n"
          ]
        }
      ]
    },
    {
      "cell_type": "markdown",
      "source": [
        "\n",
        "\n",
        "---\n",
        "\n"
      ],
      "metadata": {
        "id": "ngCtZrUaUrS2"
      }
    },
    {
      "cell_type": "markdown",
      "source": [
        "1-3. 다음 조건에 따라 출력하시오.\n",
        " - 조건 : print() 명령어 한 번 사용하기\n",
        " - 실행 결과 : \n",
        "       재미있는\n",
        "       파이썬 프로그래밍"
      ],
      "metadata": {
        "id": "yOVAa-7-S8d6"
      }
    },
    {
      "cell_type": "code",
      "source": [
        "print(\"재미있는\\n파이썬 프로그래밍\")"
      ],
      "metadata": {
        "colab": {
          "base_uri": "https://localhost:8080/"
        },
        "id": "9EumzuPJUuad",
        "outputId": "7a38b349-0caa-4244-f502-86c2911c2076"
      },
      "execution_count": null,
      "outputs": [
        {
          "output_type": "stream",
          "name": "stdout",
          "text": [
            "재미있는\n",
            "파이썬 프로그래밍\n"
          ]
        }
      ]
    },
    {
      "cell_type": "code",
      "source": [
        ""
      ],
      "metadata": {
        "id": "e6Pw_n1uVDaQ"
      },
      "execution_count": null,
      "outputs": []
    }
  ]
}